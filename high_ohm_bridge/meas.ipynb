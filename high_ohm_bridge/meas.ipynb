{
 "cells": [
  {
   "cell_type": "code",
   "execution_count": 1,
   "id": "4b8ced21-9b75-4ed9-8d98-a171028b6614",
   "metadata": {},
   "outputs": [],
   "source": [
    "import testgear\n",
    "import time\n",
    "import openpyxl as xls\n",
    "import datetime\n",
    "import numpy as np"
   ]
  },
  {
   "cell_type": "code",
   "execution_count": 2,
   "id": "dfa3e422-61b0-4c05-b132-42ec8573ef9f",
   "metadata": {},
   "outputs": [],
   "source": [
    "setup  = \"Ref_W480_W481_Dut_A7\"\n",
    "\n",
    "ref    = 10  #10V Referenzspannung\n",
    "offset = 10e-6 #10ppm +/- Offset bei Messung"
   ]
  },
  {
   "cell_type": "code",
   "execution_count": 3,
   "id": "7e6679d4-d4db-4059-9868-5fff51d9716d",
   "metadata": {},
   "outputs": [],
   "source": [
    "det        = testgear.Keithley.K617(gpib=8)\n",
    "dmm        = testgear.HPAK.HP3458A(gpib=22, gwip=\"192.168.2.88\")\n",
    "mux        = testgear.HPAK.HP3488A(gpib=10, gwip=\"192.168.2.88\")\n",
    "ref_source = testgear.Knick.JS3010(gpib=11, gwip=\"192.168.2.88\")\n",
    "dut_source = testgear.Fluke.F5440B(gpib=20, gwip=\"192.168.2.88\")\n",
    "tc         = testgear.LakeShore.LS331(gpib=12)"
   ]
  },
  {
   "cell_type": "code",
   "execution_count": 4,
   "id": "219d5bff-afcb-4f8c-8fd2-3cbcd1006bab",
   "metadata": {},
   "outputs": [
    {
     "data": {
      "text/plain": [
       "============ Testgear Instrument ============\n",
       "Class:\t\tLS331\n",
       "VISA String:\tGPIB0::12::INSTR\n",
       "ID String:\tLSCI,MODEL331S,332613,032301\n",
       "Timeout:\t3.000 s"
      ]
     },
     "execution_count": 4,
     "metadata": {},
     "output_type": "execute_result"
    }
   ],
   "source": [
    "tc"
   ]
  },
  {
   "cell_type": "markdown",
   "id": "df96cd24-512e-4663-b4e3-b377c900b03a",
   "metadata": {},
   "source": [
    "### Determine Reference Value\n",
    "\n",
    "just used to estimate the needed DMM range"
   ]
  },
  {
   "cell_type": "code",
   "execution_count": null,
   "id": "7feaf9eb-eb22-48f8-8874-f818f662cba4",
   "metadata": {},
   "outputs": [],
   "source": [
    "test_voltage = 10\n",
    "\n",
    "ref_source.set_output(test_voltage)\n",
    "dut_source.set_output(0)\n",
    "\n",
    "time.sleep(5)\n",
    "rref = test_voltage / det.read_avg(10)[\"mean\"]\n",
    "\n",
    "print(\"estimated reference: {:0.6f} MOhm\".format(rref*1e-6))\n",
    "\n",
    "if rref < 100:\n",
    "    exit()"
   ]
  },
  {
   "cell_type": "markdown",
   "id": "7573221a-1f9c-4d5b-872b-8ec0346ec34f",
   "metadata": {},
   "source": [
    "### Determine DUT Value"
   ]
  },
  {
   "cell_type": "code",
   "execution_count": null,
   "id": "910dd6f6-1e9f-45da-bb59-5277b7c12f2b",
   "metadata": {},
   "outputs": [],
   "source": [
    "test_voltage = 10\n",
    "\n",
    "ref_source.set_output(enabled=False) #special for Knick -> fix in testgear lib!\n",
    "dut_source.set_output(test_voltage)\n",
    "\n",
    "time.sleep(5)\n",
    "dut = test_voltage / det.read_avg(10)[\"mean\"]\n",
    "\n",
    "print(\"estimated DUT: {:0.6f} MOhm\".format(dut*1e-6))\n",
    "\n",
    "if dut < 100:\n",
    "    exit()"
   ]
  },
  {
   "cell_type": "markdown",
   "id": "7bb89aee-d399-43ff-a2db-883dd72637ce",
   "metadata": {},
   "source": [
    "### Estimate DUT voltage"
   ]
  },
  {
   "cell_type": "code",
   "execution_count": null,
   "id": "84df4740-2adb-4bc1-ae84-d7fe490c3123",
   "metadata": {},
   "outputs": [],
   "source": [
    "utest = ref / rref * dut\n",
    "utest"
   ]
  },
  {
   "cell_type": "code",
   "execution_count": null,
   "id": "782f5379-d58f-404e-a9c0-96a81eaf7d48",
   "metadata": {},
   "outputs": [],
   "source": [
    "dmm.conf_function_DCV(mrange=utest, nplc=100)"
   ]
  },
  {
   "cell_type": "code",
   "execution_count": null,
   "id": "a764b0b3-9a30-4de1-b599-1b3e90765301",
   "metadata": {},
   "outputs": [],
   "source": [
    "dmm.query(\"RANGE?\")"
   ]
  },
  {
   "cell_type": "markdown",
   "id": "23a015e8-5938-41f0-b261-6d67f4fde5a1",
   "metadata": {},
   "source": [
    "### Estimate rough zero voltages"
   ]
  },
  {
   "cell_type": "code",
   "execution_count": null,
   "id": "e7915e38-b8b6-4efd-a4fd-33204493de42",
   "metadata": {},
   "outputs": [],
   "source": [
    "def adjust_calibrator(start=0):\n",
    "    act = dut_source.get_output().set_voltage\n",
    "    dut_source.set_output(start)\n",
    "    \n",
    "    if np.abs(act - start) > 10:\n",
    "        time.sleep(10)\n",
    "        \n",
    "    time.sleep(10)\n",
    "    \n",
    "    while True:\n",
    "        res = det.read_avg(20)[\"mean\"]\n",
    "        print(\"residual current: {0:0.1f} pA\".format(res*1e12))\n",
    "     \n",
    "        add = res * dut * -1\n",
    "                \n",
    "        if np.abs(res) < 2e-12:\n",
    "            break\n",
    "        else:\n",
    "            act = dut_source.get_output().set_voltage\n",
    "\n",
    "            print(\"set output to {0:0.6f} V\".format(act + add))\n",
    "            dut_source.set_output(act+add)\n",
    "\n",
    "            time.sleep(10)            \n",
    "    \n",
    "    return dut_source.get_output().set_voltage"
   ]
  },
  {
   "cell_type": "code",
   "execution_count": null,
   "id": "e06479c0-70fa-403c-94d6-836344e4dc61",
   "metadata": {},
   "outputs": [],
   "source": []
  },
  {
   "cell_type": "code",
   "execution_count": null,
   "id": "9afad207-4607-4f17-a01e-7289e19cd22f",
   "metadata": {},
   "outputs": [],
   "source": [
    "def read3458(channel, readings=3):\n",
    "    mux.select_channel(4, channel)\n",
    "    time.sleep(2)\n",
    "    \n",
    "    read = dmm.read_avg(readings)[\"mean\"]\n",
    "    \n",
    "    #mux.write(\"OPEN 400\")\n",
    "    #mux.write(\"OPEN 401\")\n",
    "    \n",
    "    return read"
   ]
  },
  {
   "cell_type": "code",
   "execution_count": null,
   "id": "9ef068cb-fa4c-4f0b-9ce2-94d64b954d83",
   "metadata": {},
   "outputs": [],
   "source": [
    "wb = xls.Workbook()\n",
    "ws = wb.active\n",
    "filename = time.strftime(\"%Y%m%d-%H%M%S\")+\"_\" + setup + \"_meas.xlsx\"\n",
    "ws.append([\"time\", \"m10\", \"m11\", \"m12\", \"m20\", \"m21\", \"m22\", \"m30\", \"m31\", \"m32\", \"m40\", \"m41\", \"m42\", \"temperature\"])\n",
    "\n",
    "volt_delay = 8 #8\n",
    "det_avg    = 10 #20\n",
    "\n",
    "\n",
    "while True:\n",
    "    ##determine rough voltages\n",
    "    ref_source.set_output(-1*ref) #Reference Resistor to -10V\n",
    "    time.sleep(5)\n",
    "\n",
    "    pos_rough = adjust_calibrator()\n",
    "    print(\"estimated +zero at V\", pos_rough)\n",
    "    print(\" \")\n",
    "\n",
    "\n",
    "    ref_source.set_output(ref) #Reference Resistor to +10V\n",
    "    time.sleep(5)\n",
    "\n",
    "    neg_rough = adjust_calibrator(start=-1*pos_rough)\n",
    "    print(\"estimated -zero at V\", neg_rough)\n",
    "    print(\" \")\n",
    "\n",
    "\n",
    "    for count in range(0, 50):\n",
    "        dut_source.set_output(0)\n",
    "        ref_source.set_output(-1*ref) #Reference Resistor to -10V\n",
    "        time.sleep(5)\n",
    "\n",
    "        #Measurement 1: set calibrator to pos estimate + offset\n",
    "        dut_source.set_output(pos_rough * (1+offset))\n",
    "        time.sleep(volt_delay)\n",
    "        m10 = read3458(1) #read ref voltage\n",
    "        m11 = read3458(0) #read DUT voltage\n",
    "        m12 = det.read_avg(det_avg)[\"mean\"] #read current\n",
    "\n",
    "        #Measurement 2: set calibrator to pos estimate + offset\n",
    "        dut_source.set_output(pos_rough * (1-offset))\n",
    "        time.sleep(volt_delay)\n",
    "        m20 = read3458(1) #read ref voltage\n",
    "        m21 = read3458(0) #read DUT voltage\n",
    "        m22 = det.read_avg(det_avg)[\"mean\"] #read current\n",
    "\n",
    "        dut_source.set_output(0)\n",
    "        ref_source.set_output(ref) #Reference Resistor to -10V\n",
    "        time.sleep(5)\n",
    "\n",
    "        #Measurement 3: set calibrator to neg estimate + offset\n",
    "        dut_source.set_output(neg_rough * (1+offset))\n",
    "        time.sleep(volt_delay)\n",
    "        m30 = read3458(1) #read ref voltage\n",
    "        m31 = read3458(0) #read DUT voltage\n",
    "        m32 = det.read_avg(det_avg)[\"mean\"] #read current\n",
    "\n",
    "        #Measurement 4: set calibrator to neg estimate - offset\n",
    "        dut_source.set_output(neg_rough * (1-offset))\n",
    "        time.sleep(volt_delay)\n",
    "        m40 = read3458(1) #read ref voltage\n",
    "        m41 = read3458(0) #read DUT voltage\n",
    "        m42 = det.read_avg(det_avg)[\"mean\"] #read current\n",
    "\n",
    "\n",
    "        data  = [datetime.datetime.today(), m10, m11, m12, m20, m21, m22, m30, m31, m32, m40, m41, m42, tc.get_temp()]\n",
    "\n",
    "        pos_1 = m11 - ( m21-m11 ) / ( m22-m12 )  * m12\n",
    "        pos_2 = (m10 + m20)/2\n",
    "\n",
    "        neg_1 = m31 - ( m41 - m31 ) / ( m42 - m32 )  * m32\n",
    "        neg_2 = (m30 + m40)/2\n",
    "\n",
    "        ratio = (pos_1 - neg_1) / (pos_2 - neg_2)\n",
    "\n",
    "        print(datetime.datetime.today(), count, ratio)\n",
    "        ws.append(data)\n",
    "        wb.save(filename)"
   ]
  },
  {
   "cell_type": "code",
   "execution_count": null,
   "id": "0a6e5562-d746-42fd-b14a-d1931ba0e03f",
   "metadata": {},
   "outputs": [],
   "source": [
    "#alles aus\n",
    "ref_source.set_output(enabled=False) #special for Knick -> fix in testgear lib!\n",
    "dut_source.set_output(0)"
   ]
  },
  {
   "cell_type": "markdown",
   "id": "5add4eba-28ad-4a94-84ce-8704d7b3c2e2",
   "metadata": {},
   "source": [
    "während dritter Messung Guard Kabel an 5440B angeschlossen"
   ]
  },
  {
   "cell_type": "markdown",
   "id": "50848301-3f3d-4bc6-9148-c31d1467767c",
   "metadata": {},
   "source": [
    "Nach der Messung Guard vom 5440B auf extern und Guard to LO am 3458A an"
   ]
  },
  {
   "cell_type": "code",
   "execution_count": null,
   "id": "430fb232-61ff-467b-a49a-47b5a5d46d20",
   "metadata": {},
   "outputs": [],
   "source": []
  }
 ],
 "metadata": {
  "kernelspec": {
   "display_name": "Python 3 (ipykernel)",
   "language": "python",
   "name": "python3"
  },
  "language_info": {
   "codemirror_mode": {
    "name": "ipython",
    "version": 3
   },
   "file_extension": ".py",
   "mimetype": "text/x-python",
   "name": "python",
   "nbconvert_exporter": "python",
   "pygments_lexer": "ipython3",
   "version": "3.7.3"
  }
 },
 "nbformat": 4,
 "nbformat_minor": 5
}

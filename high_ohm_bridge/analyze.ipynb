{
 "cells": [
  {
   "cell_type": "code",
   "execution_count": 1,
   "id": "relevant-haven",
   "metadata": {},
   "outputs": [],
   "source": [
    "%matplotlib widget\n",
    "import numpy as np\n",
    "import matplotlib.pyplot as plt\n",
    "import pandas as pd\n",
    "import matplotlib.dates as mdates\n",
    "import openpyxl as xls\n",
    "import glob\n",
    "from scipy import stats\n",
    "import matplotlib.dates as mdates"
   ]
  },
  {
   "cell_type": "code",
   "execution_count": 2,
   "id": "corporate-disclosure",
   "metadata": {},
   "outputs": [],
   "source": [
    "def ppm(arr):\n",
    "    return (arr - np.mean(arr))/np.mean(arr) *1e6"
   ]
  },
  {
   "cell_type": "code",
   "execution_count": 3,
   "id": "documentary-verification",
   "metadata": {},
   "outputs": [
    {
     "data": {
      "text/html": [
       "<div>\n",
       "<style scoped>\n",
       "    .dataframe tbody tr th:only-of-type {\n",
       "        vertical-align: middle;\n",
       "    }\n",
       "\n",
       "    .dataframe tbody tr th {\n",
       "        vertical-align: top;\n",
       "    }\n",
       "\n",
       "    .dataframe thead th {\n",
       "        text-align: right;\n",
       "    }\n",
       "</style>\n",
       "<table border=\"1\" class=\"dataframe\">\n",
       "  <thead>\n",
       "    <tr style=\"text-align: right;\">\n",
       "      <th></th>\n",
       "      <th>time</th>\n",
       "      <th>m10</th>\n",
       "      <th>m11</th>\n",
       "      <th>m12</th>\n",
       "      <th>m20</th>\n",
       "      <th>m21</th>\n",
       "      <th>m22</th>\n",
       "      <th>m30</th>\n",
       "      <th>m31</th>\n",
       "      <th>m32</th>\n",
       "      <th>m40</th>\n",
       "      <th>m41</th>\n",
       "      <th>m42</th>\n",
       "      <th>temperature</th>\n",
       "    </tr>\n",
       "  </thead>\n",
       "  <tbody>\n",
       "    <tr>\n",
       "      <th>0</th>\n",
       "      <td>2021-10-12 16:55:00.426</td>\n",
       "      <td>-10.000000</td>\n",
       "      <td>100.003542</td>\n",
       "      <td>4.807450e-11</td>\n",
       "      <td>-10.000003</td>\n",
       "      <td>100.001572</td>\n",
       "      <td>-4.903820e-11</td>\n",
       "      <td>9.999814</td>\n",
       "      <td>-99.993169</td>\n",
       "      <td>-4.729350e-11</td>\n",
       "      <td>9.999820</td>\n",
       "      <td>-99.991202</td>\n",
       "      <td>4.910230e-11</td>\n",
       "      <td>35.081</td>\n",
       "    </tr>\n",
       "    <tr>\n",
       "      <th>1</th>\n",
       "      <td>2021-10-12 16:57:51.070</td>\n",
       "      <td>-9.999998</td>\n",
       "      <td>100.003537</td>\n",
       "      <td>4.939640e-11</td>\n",
       "      <td>-10.000000</td>\n",
       "      <td>100.001556</td>\n",
       "      <td>-4.727010e-11</td>\n",
       "      <td>9.999819</td>\n",
       "      <td>-99.993170</td>\n",
       "      <td>-4.728500e-11</td>\n",
       "      <td>9.999822</td>\n",
       "      <td>-99.991207</td>\n",
       "      <td>4.989270e-11</td>\n",
       "      <td>35.067</td>\n",
       "    </tr>\n",
       "    <tr>\n",
       "      <th>2</th>\n",
       "      <td>2021-10-12 17:00:41.117</td>\n",
       "      <td>-10.000000</td>\n",
       "      <td>100.003527</td>\n",
       "      <td>4.698050e-11</td>\n",
       "      <td>-10.000005</td>\n",
       "      <td>100.001560</td>\n",
       "      <td>-4.812110e-11</td>\n",
       "      <td>9.999812</td>\n",
       "      <td>-99.993172</td>\n",
       "      <td>-4.506290e-11</td>\n",
       "      <td>9.999818</td>\n",
       "      <td>-99.991201</td>\n",
       "      <td>4.917170e-11</td>\n",
       "      <td>35.015</td>\n",
       "    </tr>\n",
       "    <tr>\n",
       "      <th>3</th>\n",
       "      <td>2021-10-12 17:03:31.280</td>\n",
       "      <td>-9.999998</td>\n",
       "      <td>100.003527</td>\n",
       "      <td>5.354780e-11</td>\n",
       "      <td>-10.000000</td>\n",
       "      <td>100.001551</td>\n",
       "      <td>-4.522920e-11</td>\n",
       "      <td>9.999813</td>\n",
       "      <td>-99.993173</td>\n",
       "      <td>-4.633640e-11</td>\n",
       "      <td>9.999816</td>\n",
       "      <td>-99.991197</td>\n",
       "      <td>4.994560e-11</td>\n",
       "      <td>34.923</td>\n",
       "    </tr>\n",
       "    <tr>\n",
       "      <th>4</th>\n",
       "      <td>2021-10-12 17:06:21.414</td>\n",
       "      <td>-9.999995</td>\n",
       "      <td>100.003524</td>\n",
       "      <td>5.344820e-11</td>\n",
       "      <td>-10.000000</td>\n",
       "      <td>100.001550</td>\n",
       "      <td>-4.538350e-11</td>\n",
       "      <td>9.999819</td>\n",
       "      <td>-99.993170</td>\n",
       "      <td>-4.553760e-11</td>\n",
       "      <td>9.999823</td>\n",
       "      <td>-99.991206</td>\n",
       "      <td>5.037280e-11</td>\n",
       "      <td>34.886</td>\n",
       "    </tr>\n",
       "    <tr>\n",
       "      <th>...</th>\n",
       "      <td>...</td>\n",
       "      <td>...</td>\n",
       "      <td>...</td>\n",
       "      <td>...</td>\n",
       "      <td>...</td>\n",
       "      <td>...</td>\n",
       "      <td>...</td>\n",
       "      <td>...</td>\n",
       "      <td>...</td>\n",
       "      <td>...</td>\n",
       "      <td>...</td>\n",
       "      <td>...</td>\n",
       "      <td>...</td>\n",
       "      <td>...</td>\n",
       "    </tr>\n",
       "    <tr>\n",
       "      <th>303</th>\n",
       "      <td>2021-10-13 07:15:44.035</td>\n",
       "      <td>-10.000015</td>\n",
       "      <td>100.003946</td>\n",
       "      <td>4.739050e-11</td>\n",
       "      <td>-10.000015</td>\n",
       "      <td>100.001968</td>\n",
       "      <td>-4.994080e-11</td>\n",
       "      <td>9.999820</td>\n",
       "      <td>-99.993602</td>\n",
       "      <td>-8.270010e-11</td>\n",
       "      <td>9.999822</td>\n",
       "      <td>-99.991619</td>\n",
       "      <td>1.609466e-11</td>\n",
       "      <td>35.038</td>\n",
       "    </tr>\n",
       "    <tr>\n",
       "      <th>304</th>\n",
       "      <td>2021-10-13 07:18:34.494</td>\n",
       "      <td>-10.000010</td>\n",
       "      <td>100.003930</td>\n",
       "      <td>4.545350e-11</td>\n",
       "      <td>-10.000013</td>\n",
       "      <td>100.001950</td>\n",
       "      <td>-5.229410e-11</td>\n",
       "      <td>9.999818</td>\n",
       "      <td>-99.993585</td>\n",
       "      <td>-8.030340e-11</td>\n",
       "      <td>9.999823</td>\n",
       "      <td>-99.991614</td>\n",
       "      <td>1.642643e-11</td>\n",
       "      <td>35.030</td>\n",
       "    </tr>\n",
       "    <tr>\n",
       "      <th>305</th>\n",
       "      <td>2021-10-13 07:21:25.082</td>\n",
       "      <td>-10.000011</td>\n",
       "      <td>100.003916</td>\n",
       "      <td>4.597980e-11</td>\n",
       "      <td>-10.000011</td>\n",
       "      <td>100.001942</td>\n",
       "      <td>-5.265200e-11</td>\n",
       "      <td>9.999823</td>\n",
       "      <td>-99.993583</td>\n",
       "      <td>-8.021270e-11</td>\n",
       "      <td>9.999825</td>\n",
       "      <td>-99.991610</td>\n",
       "      <td>1.797808e-11</td>\n",
       "      <td>35.019</td>\n",
       "    </tr>\n",
       "    <tr>\n",
       "      <th>306</th>\n",
       "      <td>2021-10-13 07:24:15.408</td>\n",
       "      <td>-10.000009</td>\n",
       "      <td>100.003919</td>\n",
       "      <td>4.517210e-11</td>\n",
       "      <td>-10.000013</td>\n",
       "      <td>100.001939</td>\n",
       "      <td>-5.379560e-11</td>\n",
       "      <td>9.999818</td>\n",
       "      <td>-99.993577</td>\n",
       "      <td>-7.983140e-11</td>\n",
       "      <td>9.999822</td>\n",
       "      <td>-99.991607</td>\n",
       "      <td>1.825207e-11</td>\n",
       "      <td>35.006</td>\n",
       "    </tr>\n",
       "    <tr>\n",
       "      <th>307</th>\n",
       "      <td>2021-10-13 07:27:05.796</td>\n",
       "      <td>-10.000007</td>\n",
       "      <td>100.003909</td>\n",
       "      <td>4.540770e-11</td>\n",
       "      <td>-10.000012</td>\n",
       "      <td>100.001936</td>\n",
       "      <td>-5.400680e-11</td>\n",
       "      <td>9.999819</td>\n",
       "      <td>-99.993565</td>\n",
       "      <td>-7.873240e-11</td>\n",
       "      <td>9.999823</td>\n",
       "      <td>-99.991591</td>\n",
       "      <td>1.968200e-11</td>\n",
       "      <td>34.998</td>\n",
       "    </tr>\n",
       "  </tbody>\n",
       "</table>\n",
       "<p>308 rows × 14 columns</p>\n",
       "</div>"
      ],
      "text/plain": [
       "                       time        m10         m11           m12        m20  \\\n",
       "0   2021-10-12 16:55:00.426 -10.000000  100.003542  4.807450e-11 -10.000003   \n",
       "1   2021-10-12 16:57:51.070  -9.999998  100.003537  4.939640e-11 -10.000000   \n",
       "2   2021-10-12 17:00:41.117 -10.000000  100.003527  4.698050e-11 -10.000005   \n",
       "3   2021-10-12 17:03:31.280  -9.999998  100.003527  5.354780e-11 -10.000000   \n",
       "4   2021-10-12 17:06:21.414  -9.999995  100.003524  5.344820e-11 -10.000000   \n",
       "..                      ...        ...         ...           ...        ...   \n",
       "303 2021-10-13 07:15:44.035 -10.000015  100.003946  4.739050e-11 -10.000015   \n",
       "304 2021-10-13 07:18:34.494 -10.000010  100.003930  4.545350e-11 -10.000013   \n",
       "305 2021-10-13 07:21:25.082 -10.000011  100.003916  4.597980e-11 -10.000011   \n",
       "306 2021-10-13 07:24:15.408 -10.000009  100.003919  4.517210e-11 -10.000013   \n",
       "307 2021-10-13 07:27:05.796 -10.000007  100.003909  4.540770e-11 -10.000012   \n",
       "\n",
       "            m21           m22       m30        m31           m32       m40  \\\n",
       "0    100.001572 -4.903820e-11  9.999814 -99.993169 -4.729350e-11  9.999820   \n",
       "1    100.001556 -4.727010e-11  9.999819 -99.993170 -4.728500e-11  9.999822   \n",
       "2    100.001560 -4.812110e-11  9.999812 -99.993172 -4.506290e-11  9.999818   \n",
       "3    100.001551 -4.522920e-11  9.999813 -99.993173 -4.633640e-11  9.999816   \n",
       "4    100.001550 -4.538350e-11  9.999819 -99.993170 -4.553760e-11  9.999823   \n",
       "..          ...           ...       ...        ...           ...       ...   \n",
       "303  100.001968 -4.994080e-11  9.999820 -99.993602 -8.270010e-11  9.999822   \n",
       "304  100.001950 -5.229410e-11  9.999818 -99.993585 -8.030340e-11  9.999823   \n",
       "305  100.001942 -5.265200e-11  9.999823 -99.993583 -8.021270e-11  9.999825   \n",
       "306  100.001939 -5.379560e-11  9.999818 -99.993577 -7.983140e-11  9.999822   \n",
       "307  100.001936 -5.400680e-11  9.999819 -99.993565 -7.873240e-11  9.999823   \n",
       "\n",
       "           m41           m42  temperature  \n",
       "0   -99.991202  4.910230e-11       35.081  \n",
       "1   -99.991207  4.989270e-11       35.067  \n",
       "2   -99.991201  4.917170e-11       35.015  \n",
       "3   -99.991197  4.994560e-11       34.923  \n",
       "4   -99.991206  5.037280e-11       34.886  \n",
       "..         ...           ...          ...  \n",
       "303 -99.991619  1.609466e-11       35.038  \n",
       "304 -99.991614  1.642643e-11       35.030  \n",
       "305 -99.991610  1.797808e-11       35.019  \n",
       "306 -99.991607  1.825207e-11       35.006  \n",
       "307 -99.991591  1.968200e-11       34.998  \n",
       "\n",
       "[308 rows x 14 columns]"
      ]
     },
     "execution_count": 3,
     "metadata": {},
     "output_type": "execute_result"
    }
   ],
   "source": [
    "filename = sorted(glob.glob(\"*.xlsx\"))[-4]\n",
    "d=pd.read_excel(filename)\n",
    "#d = d[:130]\n",
    "d"
   ]
  },
  {
   "cell_type": "code",
   "execution_count": 4,
   "id": "b424430a-b2cd-4bf6-8a8e-d479f2278ede",
   "metadata": {},
   "outputs": [
    {
     "data": {
      "text/plain": [
       "'20211012-165210_Ref_W480_W481_Dut_C2_meas.xlsx'"
      ]
     },
     "execution_count": 4,
     "metadata": {},
     "output_type": "execute_result"
    }
   ],
   "source": [
    "filename"
   ]
  },
  {
   "cell_type": "code",
   "execution_count": 5,
   "id": "concerned-party",
   "metadata": {},
   "outputs": [
    {
     "data": {
      "text/plain": [
       "-9.999828829911618"
      ]
     },
     "execution_count": 5,
     "metadata": {},
     "output_type": "execute_result"
    }
   ],
   "source": [
    "pos_1 = d[\"m11\"] - ( d[\"m21\"]-d[\"m11\"] ) / ( d[\"m22\"]-d[\"m12\"] )  * d[\"m12\"]\n",
    "pos_2 = (d[\"m10\"] + d[\"m20\"])/2\n",
    "\n",
    "neg_1 = d[\"m31\"] - ( d[\"m41\"]-d[\"m31\"] ) / ( d[\"m42\"]-d[\"m32\"] )  * d[\"m32\"]\n",
    "neg_2 = (d[\"m30\"] + d[\"m40\"])/2\n",
    "\n",
    "ratio = (pos_1 - neg_1) / (pos_2 - neg_2)\n",
    "np.mean(ratio)"
   ]
  },
  {
   "cell_type": "code",
   "execution_count": 6,
   "id": "minimal-converter",
   "metadata": {},
   "outputs": [
    {
     "data": {
      "text/plain": [
       "8999828.829911618"
      ]
     },
     "execution_count": 6,
     "metadata": {},
     "output_type": "execute_result"
    }
   ],
   "source": [
    "(-np.mean(ratio) -1)/1 *1e6"
   ]
  },
  {
   "cell_type": "markdown",
   "id": "8c79a354-1b63-444b-a129-bbea7f7ec183",
   "metadata": {},
   "source": [
    "7.187912305806066"
   ]
  },
  {
   "cell_type": "code",
   "execution_count": 7,
   "id": "0524e88f-88ae-461e-b430-22c30a451d99",
   "metadata": {},
   "outputs": [
    {
     "data": {
      "application/vnd.jupyter.widget-view+json": {
       "model_id": "b7db68ebd6904aadac504d665fe8dd4d",
       "version_major": 2,
       "version_minor": 0
      },
      "text/plain": [
       "Canvas(toolbar=Toolbar(toolitems=[('Home', 'Reset original view', 'home', 'home'), ('Back', 'Back to previous …"
      ]
     },
     "metadata": {},
     "output_type": "display_data"
    }
   ],
   "source": [
    "time_s = d.time.values.astype(np.int64) / 10 ** 9\n",
    "time_s = time_s - time_s[0]\n",
    "\n",
    "#fig = plt.figure()\n",
    "fig = plt.figure()\n",
    "plt.title(\"Ratio measurement 2Meg : 20Meg  DUT: \"+filename.split(\"_\")[5])\n",
    "plt.plot(time_s / 3600, ppm(ratio))\n",
    "plt.grid()\n",
    "plt.ylabel(\"Deviation from mean in ppm\")\n",
    "plt.xlabel(\"Time in hours\")\n",
    "#fig.autofmt_xdate()\n",
    "plt.tight_layout()\n",
    "plt.show()"
   ]
  },
  {
   "cell_type": "code",
   "execution_count": 8,
   "id": "aadd767b-6846-4043-9f70-4ff4f7595ae3",
   "metadata": {},
   "outputs": [
    {
     "data": {
      "application/vnd.jupyter.widget-view+json": {
       "model_id": "129057d60d6942f4bbe26e9ee23a7f60",
       "version_major": 2,
       "version_minor": 0
      },
      "text/plain": [
       "Canvas(toolbar=Toolbar(toolitems=[('Home', 'Reset original view', 'home', 'home'), ('Back', 'Back to previous …"
      ]
     },
     "metadata": {},
     "output_type": "display_data"
    }
   ],
   "source": [
    "plt.figure()\n",
    "plt.plot(ppm(d[\"m10\"]))\n",
    "plt.plot(ppm(d[\"m11\"]))\n",
    "plt.grid()\n",
    "plt.show()"
   ]
  },
  {
   "cell_type": "code",
   "execution_count": 9,
   "id": "ed2401b2-df84-4470-8fd2-1a5d8297bdcb",
   "metadata": {},
   "outputs": [
    {
     "data": {
      "application/vnd.jupyter.widget-view+json": {
       "model_id": "59b2b8d2c37e4fcda4bf1acf2c83cf51",
       "version_major": 2,
       "version_minor": 0
      },
      "text/plain": [
       "Canvas(toolbar=Toolbar(toolitems=[('Home', 'Reset original view', 'home', 'home'), ('Back', 'Back to previous …"
      ]
     },
     "metadata": {},
     "output_type": "display_data"
    }
   ],
   "source": [
    "plt.figure()\n",
    "plt.plot(d[\"m12\"]*1e12)\n",
    "plt.plot(d[\"m22\"]*1e12)\n",
    "\n",
    "plt.plot(d[\"m32\"]*1e12)\n",
    "plt.plot(d[\"m42\"]*1e12)\n",
    "plt.grid()\n",
    "plt.ylabel(\"Current in pA\")\n",
    "plt.show()"
   ]
  },
  {
   "cell_type": "code",
   "execution_count": 10,
   "id": "b62b792b-c1fd-4554-bb0e-205a32da4496",
   "metadata": {},
   "outputs": [
    {
     "data": {
      "application/vnd.jupyter.widget-view+json": {
       "model_id": "2a578488304e4ec29ab5cf1ee0c82721",
       "version_major": 2,
       "version_minor": 0
      },
      "text/plain": [
       "Canvas(toolbar=Toolbar(toolitems=[('Home', 'Reset original view', 'home', 'home'), ('Back', 'Back to previous …"
      ]
     },
     "metadata": {},
     "output_type": "display_data"
    }
   ],
   "source": [
    "plt.figure()\n",
    "plt.plot(d[\"temperature\"])\n",
    "plt.grid()\n",
    "plt.ylabel(\"Temperatue in °C\")\n",
    "plt.show()"
   ]
  },
  {
   "cell_type": "code",
   "execution_count": null,
   "id": "180632f9-bf8f-4e9f-8308-ab83f3e4a04d",
   "metadata": {},
   "outputs": [],
   "source": []
  }
 ],
 "metadata": {
  "kernelspec": {
   "display_name": "Python 3 (ipykernel)",
   "language": "python",
   "name": "python3"
  },
  "language_info": {
   "codemirror_mode": {
    "name": "ipython",
    "version": 3
   },
   "file_extension": ".py",
   "mimetype": "text/x-python",
   "name": "python",
   "nbconvert_exporter": "python",
   "pygments_lexer": "ipython3",
   "version": "3.7.3"
  }
 },
 "nbformat": 4,
 "nbformat_minor": 5
}
